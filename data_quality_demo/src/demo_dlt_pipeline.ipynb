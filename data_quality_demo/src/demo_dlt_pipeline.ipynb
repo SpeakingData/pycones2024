{
 "cells": [
  {
   "cell_type": "markdown",
   "metadata": {
    "application/vnd.databricks.v1+cell": {
     "cellMetadata": {},
     "inputWidgets": {},
     "nuid": "9a626959-61c8-4bba-84d2-2a4ecab1f7ec",
     "showTitle": false,
     "title": ""
    }
   },
   "source": [
    "# DLT pipeline\n",
    "\n",
    "This Delta Live Tables (DLT) definition is executed using a pipeline defined in resources/data_quality_demo_pipeline.yml."
   ]
  },
  {
   "cell_type": "code",
   "execution_count": 0,
   "metadata": {
    "application/vnd.databricks.v1+cell": {
     "cellMetadata": {},
     "inputWidgets": {},
     "nuid": "9198e987-5606-403d-9f6d-8f14e6a4017f",
     "showTitle": false,
     "title": ""
    }
   },
   "outputs": [],
   "source": [
    "import dlt\n",
    "import pyspark.sql.functions as F\n",
    "from pyspark.sql.functions import expr"
   ]
  },
  {
   "cell_type": "code",
   "execution_count": null,
   "metadata": {},
   "outputs": [],
   "source": [
    "@dlt.view\n",
    "def bronze_data_quality():\n",
    "  return spark.readStream.table(\"data_quality_demo.bronze_data_quality\")"
   ]
  },
  {
   "cell_type": "code",
   "execution_count": null,
   "metadata": {},
   "outputs": [],
   "source": [
    "@dlt.expect_or_drop(\"valid_sales_id\", \"sales_id IS NOT NULL\")\n",
    "@dlt.expect_or_drop(\"valid_client_id\", \"client_id IS NOT NULL\")\n",
    "@dlt.expect_or_drop(\"valid_product_id\", \"product_id IS NOT NULL\")\n",
    "@dlt.expect(\"valid_quantity\", \"quantity > 0\")\n",
    "@dlt.expect(\"valid_address\", \"address in ('New York', 'California', 'Texas', 'Florida', 'Illinois')\")\n",
    "@dlt.expect(\"valid_date\", \"date between '2020-01-01' and '2025-01-01'\")\n",
    "@dlt.table(\n",
    "    name =f\"_temp_bronze_clean\",\n",
    "    comment=\"The raw sales orders, ingested from /databricks-datasets.\",\n",
    "    table_properties={\n",
    "        \"myCompanyPipeline.quality\": \"bronze\",\n",
    "        \"pipelines.autoOptimize.managed\": \"true\"\n",
    "    },\n",
    "    temporary=True\n",
    ")\n",
    "#@dlt.expect_all_or_drop(get_rules(table_name))\n",
    "def temp_silver():\n",
    "    return (\n",
    "        dlt.readStream(\"bronze_data_quality\")\n",
    "        .withColumn(\"process_timestamp\", F.current_timestamp())\n",
    ")"
   ]
  },
  {
   "cell_type": "code",
   "execution_count": null,
   "metadata": {},
   "outputs": [],
   "source": [
    "def create_silver(table_name, cols, ids, scd_type=1):\n",
    "    dlt.create_streaming_table(name=f\"silver_{table_name}_dlt\", comment=\"Clean table: \"+table_name)\n",
    "    dlt.apply_changes(\n",
    "    source = f\"_temp_bronze_clean\",\n",
    "    target = f\"silver_{table_name}_dlt\",    \n",
    "    keys = ids,\n",
    "    sequence_by = F.col(\"process_timestamp\"),\n",
    "    column_list = cols,\n",
    "    stored_as_scd_type = scd_type\n",
    "    # apply_as_deletes = F.expr(\"operation = 'DELETE'\"),\n",
    "    #except_column_list = except_cols,\n",
    "    )"
   ]
  },
  {
   "cell_type": "code",
   "execution_count": null,
   "metadata": {},
   "outputs": [],
   "source": [
    "client_silver_table = 'clients'\n",
    "client_cols = ['client_id', 'first_name', 'last_name', 'gender', 'age', 'email', 'signup_date', 'address']\n",
    "client_ids = ['client_id']"
   ]
  },
  {
   "cell_type": "code",
   "execution_count": null,
   "metadata": {},
   "outputs": [],
   "source": [
    "create_silver(client_silver_table, client_cols, client_ids, 2)"
   ]
  },
  {
   "cell_type": "code",
   "execution_count": null,
   "metadata": {},
   "outputs": [],
   "source": [
    "product_silver_table = 'products'\n",
    "product_cols = ['product_id', 'product_name', 'category', 'price']\n",
    "product_ids = ['product_id']"
   ]
  },
  {
   "cell_type": "code",
   "execution_count": null,
   "metadata": {},
   "outputs": [],
   "source": [
    "create_silver(product_silver_table, product_cols, product_ids)"
   ]
  },
  {
   "cell_type": "code",
   "execution_count": null,
   "metadata": {},
   "outputs": [],
   "source": [
    "sales_silver_table = 'sales'\n",
    "sales_cols = ['date','sales_id', 'client_id', 'product_id', 'quantity','sale_amount']\n",
    "sales_ids = ['sales_id']"
   ]
  },
  {
   "cell_type": "code",
   "execution_count": null,
   "metadata": {},
   "outputs": [],
   "source": [
    "create_silver(sales_silver_table, sales_cols, sales_ids)"
   ]
  }
 ],
 "metadata": {
  "application/vnd.databricks.v1+notebook": {
   "dashboards": [],
   "language": "python",
   "notebookMetadata": {
    "pythonIndentUnit": 2
   },
   "notebookName": "dlt_pipeline",
   "widgets": {}
  },
  "kernelspec": {
   "display_name": "Python 3",
   "language": "python",
   "name": "python3"
  },
  "language_info": {
   "name": "python",
   "version": "3.11.4"
  }
 },
 "nbformat": 4,
 "nbformat_minor": 0
}
