{
 "cells": [
  {
   "cell_type": "code",
   "execution_count": 0,
   "metadata": {
    "application/vnd.databricks.v1+cell": {
     "cellMetadata": {
      "byteLimit": 2048000,
      "rowLimit": 10000
     },
     "inputWidgets": {},
     "nuid": "d719285e-6ca6-4a63-a79d-747eadaf28ce",
     "showTitle": false,
     "title": ""
    }
   },
   "outputs": [],
   "source": [
    "%run ./shared/set_env"
   ]
  },
  {
   "cell_type": "code",
   "execution_count": 0,
   "metadata": {
    "application/vnd.databricks.v1+cell": {
     "cellMetadata": {
      "byteLimit": 2048000,
      "rowLimit": 10000
     },
     "inputWidgets": {},
     "nuid": "f834d854-d057-42ca-a924-59bcbfc7831e",
     "showTitle": false,
     "title": ""
    }
   },
   "outputs": [],
   "source": [
    "data_env = DataGeneratorEnvironment(schema=\"data_quality_demo\", spark=spark)"
   ]
  },
  {
   "cell_type": "code",
   "execution_count": 0,
   "metadata": {
    "application/vnd.databricks.v1+cell": {
     "cellMetadata": {
      "byteLimit": 2048000,
      "rowLimit": 10000
     },
     "inputWidgets": {},
     "nuid": "67f904c2-ec48-4cb5-b8c6-5ded3d52d185",
     "showTitle": false,
     "title": ""
    }
   },
   "outputs": [],
   "source": [
    "checkpoint_path = 'tmp/data_quality_demo/_checkpoints'\n",
    "bronze_table = 'bronze_data_quality'"
   ]
  },
  {
   "cell_type": "code",
   "execution_count": 0,
   "metadata": {
    "application/vnd.databricks.v1+cell": {
     "cellMetadata": {
      "byteLimit": 2048000,
      "rowLimit": 10000
     },
     "inputWidgets": {},
     "nuid": "69009cf9-51c8-4233-91be-b441f460b17d",
     "showTitle": false,
     "title": ""
    }
   },
   "outputs": [],
   "source": [
    "client_silver_table = 'silver_clients'\n",
    "client_cols = ['client_id', 'first_name', 'last_name', 'gender', 'age', 'email', 'signup_date', 'address']\n",
    "client_ids = ['client_id']"
   ]
  },
  {
   "cell_type": "code",
   "execution_count": 0,
   "metadata": {
    "application/vnd.databricks.v1+cell": {
     "cellMetadata": {
      "byteLimit": 2048000,
      "rowLimit": 10000
     },
     "inputWidgets": {},
     "nuid": "1b04125b-25ba-4f50-af61-4146ef195a86",
     "showTitle": false,
     "title": ""
    }
   },
   "outputs": [],
   "source": [
    "data_env.process_bronze_to_silver(bronze_table ,client_silver_table, client_cols, client_ids ,checkpoint_path)"
   ]
  },
  {
   "cell_type": "code",
   "execution_count": 0,
   "metadata": {
    "application/vnd.databricks.v1+cell": {
     "cellMetadata": {
      "byteLimit": 2048000,
      "rowLimit": 10000
     },
     "inputWidgets": {},
     "nuid": "431f184f-64b3-4803-a6c2-747a1ccec6ee",
     "showTitle": false,
     "title": ""
    }
   },
   "outputs": [],
   "source": [
    "product_silver_table = 'silver_products'\n",
    "product_cols = ['product_id', 'product_name', 'category', 'price']\n",
    "product_ids = ['product_id']"
   ]
  },
  {
   "cell_type": "code",
   "execution_count": 0,
   "metadata": {
    "application/vnd.databricks.v1+cell": {
     "cellMetadata": {
      "byteLimit": 2048000,
      "rowLimit": 10000
     },
     "inputWidgets": {},
     "nuid": "7c620afb-db9a-418c-97af-d1f6f15dc445",
     "showTitle": false,
     "title": ""
    }
   },
   "outputs": [],
   "source": [
    "data_env.process_bronze_to_silver(bronze_table ,product_silver_table, product_cols, product_ids ,checkpoint_path)"
   ]
  },
  {
   "cell_type": "code",
   "execution_count": 0,
   "metadata": {
    "application/vnd.databricks.v1+cell": {
     "cellMetadata": {
      "byteLimit": 2048000,
      "rowLimit": 10000
     },
     "inputWidgets": {},
     "nuid": "03eed5cd-9e9e-477e-b403-b7599bbdd0ff",
     "showTitle": false,
     "title": ""
    }
   },
   "outputs": [],
   "source": [
    "sales_silver_table = 'silver_sales'\n",
    "sales_cols = ['date','sales_id', 'client_id', 'product_id', 'quantity','sale_amount']\n",
    "sales_ids = ['sales_id']"
   ]
  },
  {
   "cell_type": "code",
   "execution_count": 0,
   "metadata": {
    "application/vnd.databricks.v1+cell": {
     "cellMetadata": {
      "byteLimit": 2048000,
      "rowLimit": 10000
     },
     "inputWidgets": {},
     "nuid": "4b94c57a-6e39-45c7-8b4c-c0d12c7830ee",
     "showTitle": false,
     "title": ""
    }
   },
   "outputs": [],
   "source": [
    "data_env.process_bronze_to_silver(bronze_table ,sales_silver_table, sales_cols, sales_ids ,checkpoint_path)"
   ]
  },
  {
   "cell_type": "code",
   "execution_count": 0,
   "metadata": {
    "application/vnd.databricks.v1+cell": {
     "cellMetadata": {
      "byteLimit": 2048000,
      "rowLimit": 10000
     },
     "inputWidgets": {},
     "nuid": "901a9b83-fca6-4e44-8eda-f67c0b3ec4c8",
     "showTitle": false,
     "title": ""
    }
   },
   "outputs": [],
   "source": []
  }
 ],
 "metadata": {
  "application/vnd.databricks.v1+notebook": {
   "dashboards": [],
   "environmentMetadata": {
    "base_environment": "",
    "client": "1"
   },
   "language": "python",
   "notebookMetadata": {
    "pythonIndentUnit": 2
   },
   "notebookName": "1_bronze_to_silver",
   "widgets": {}
  },
  "kernelspec": {
   "display_name": "Python 3",
   "language": "python",
   "name": "python3"
  },
  "language_info": {
   "name": "python",
   "version": "3.11.4"
  }
 },
 "nbformat": 4,
 "nbformat_minor": 0
}
