{
 "cells": [
  {
   "cell_type": "code",
   "execution_count": null,
   "metadata": {},
   "outputs": [],
   "source": [
    "%pip install \"databricks-sdk>=0.28.0\""
   ]
  },
  {
   "cell_type": "code",
   "execution_count": null,
   "metadata": {},
   "outputs": [],
   "source": [
    "catalog = \"databricks_playground\"\n",
    "schema = \"data_quality_demo\"\n",
    "table_name = \"bronze_data_quality\"\n",
    "user_email = \"antaliagacortes@outlook.es\""
   ]
  },
  {
   "cell_type": "code",
   "execution_count": null,
   "metadata": {},
   "outputs": [],
   "source": [
    "#spark.sql(f\"ALTER TABLE {catalog}.{schema}.{table_name} SET TBLPROPERTIES (delta.enableChangeDataFeed = true)\")"
   ]
  },
  {
   "cell_type": "code",
   "execution_count": null,
   "metadata": {},
   "outputs": [],
   "source": [
    "from databricks.sdk import WorkspaceClient\n",
    "from databricks.sdk.service.catalog import MonitorTimeSeriesProfileType\n",
    "\n",
    "#w.lakehouse_monitors.create()\n",
    "w = WorkspaceClient()\n",
    "w.lakehouse_monitors.create(\n",
    "  full_name=f\"{catalog}.{schema}.{table_name}\",\n",
    "  assets_dir=f\"/Workspace/Users/{user_email}/databricks_lakehouse_monitoring/{catalog}.{schema}.{table_name}\",\n",
    "  output_schema_name=f\"{catalog}.monitoring\",\n",
    "  time_series=MonitorTimeSeriesProfileType(timestamp_col='date', granularities=[\"1 day\"])\n",
    ")"
   ]
  },
  {
   "cell_type": "code",
   "execution_count": null,
   "metadata": {},
   "outputs": [],
   "source": [
    "w.lakehouse_monitors.run_refresh(f\"{catalog}.{schema}.{table_name}\")"
   ]
  },
  {
   "cell_type": "code",
   "execution_count": null,
   "metadata": {},
   "outputs": [],
   "source": [
    "w.lakehouse_monitors.get(f\"{catalog}.{schema}.{table_name}\")"
   ]
  },
  {
   "cell_type": "code",
   "execution_count": null,
   "metadata": {},
   "outputs": [],
   "source": [
    "w.lakehouse_monitors.list_refreshes(full_name=f\"{catalog}.{schema}.{table_name}\")"
   ]
  }
 ],
 "metadata": {
  "application/vnd.databricks.v1+notebook": {
   "dashboards": [],
   "environmentMetadata": null,
   "language": "python",
   "notebookMetadata": {
    "pythonIndentUnit": 2
   },
   "notebookName": "98_add_data_bronze",
   "widgets": {}
  },
  "kernelspec": {
   "display_name": "Python 3",
   "language": "python",
   "name": "python3"
  },
  "language_info": {
   "name": "python",
   "version": "3.11.4"
  }
 },
 "nbformat": 4,
 "nbformat_minor": 0
}
